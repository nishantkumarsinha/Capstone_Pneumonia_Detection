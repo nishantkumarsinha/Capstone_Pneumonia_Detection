{
  "nbformat": 4,
  "nbformat_minor": 0,
  "metadata": {
    "colab": {
      "name": "CAPSTONE.ipynb",
      "provenance": [],
      "authorship_tag": "ABX9TyPX6R7sRJ0dof8QjrjTyVou",
      "include_colab_link": true
    },
    "kernelspec": {
      "name": "python3",
      "display_name": "Python 3"
    }
  },
  "cells": [
    {
      "cell_type": "markdown",
      "metadata": {
        "id": "view-in-github",
        "colab_type": "text"
      },
      "source": [
        "<a href=\"https://colab.research.google.com/github/sharmapratik88/Capstone_Pneumonia_Detection_Challenge/blob/pratik/CAPSTONE.ipynb\" target=\"_parent\"><img src=\"https://colab.research.google.com/assets/colab-badge.svg\" alt=\"Open In Colab\"/></a>"
      ]
    },
    {
      "cell_type": "code",
      "metadata": {
        "id": "BBPboLQQaALP",
        "colab_type": "code",
        "colab": {}
      },
      "source": [
        "!git clone https://github.com/sharmapratik88/Capstone_Pneumonia_Detection_Challenge.git"
      ],
      "execution_count": 0,
      "outputs": []
    }
  ]
}